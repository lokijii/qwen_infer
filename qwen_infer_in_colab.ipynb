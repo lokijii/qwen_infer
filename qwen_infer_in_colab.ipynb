{
  "cells": [
    {
      "cell_type": "code",
      "execution_count": null,
      "metadata": {
        "id": "VjYy0F2gZIPR"
      },
      "outputs": [],
      "source": [
        "%cd /content\n",
        "!wget https://raw.githubusercontent.com/lokijii/qwen_infer/main/app.py -O /content/app.py\n",
        "\n",
        "!pip install -q tiktoken transformers_stream_generator gradio==3.50.2 optimum auto-gptq huggingface_hub einops\n",
        "# !pip install -q modelscope -f https://pypi.org/project/modelscope\n",
        "!pip install transformers==4.32.0\n",
        "!python app.py --share"
      ]
    }
  ],
  "metadata": {
    "accelerator": "GPU",
    "colab": {
      "gpuType": "T4",
      "provenance": []
    },
    "kernelspec": {
      "display_name": "Python 3",
      "name": "python3"
    },
    "language_info": {
      "name": "python"
    }
  },
  "nbformat": 4,
  "nbformat_minor": 0
}